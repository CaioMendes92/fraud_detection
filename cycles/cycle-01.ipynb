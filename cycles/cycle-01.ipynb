{
 "cells": [
  {
   "cell_type": "markdown",
   "id": "49264dc0",
   "metadata": {
    "tags": []
   },
   "source": [
    "# CRISP-DM"
   ]
  },
  {
   "cell_type": "markdown",
   "id": "b8a3e3fa",
   "metadata": {},
   "source": [
    "## 1. Entendimento do Negócio"
   ]
  },
  {
   "cell_type": "markdown",
   "id": "a120aef5",
   "metadata": {},
   "source": [
    "Com o aumento das transações eletrônicas em pontos de venda físicos, o uso de cartões de crédito tornou-se essencial no cotidiano. No entanto, essa facilidade também trouxe um aumento nas fraudes, incluindo transações fraudulentas em terminais físicos comprometidos e ataques direcionados a esses locais.\n",
    "Fraudes em terminais físicos prejudicam financeiramente as instituições e afetam a confiança dos consumidores, além de impactar negativamente a reputação das empresas envolvidas. Por isso, enfretamos uma demanda crescente por soluções automatizadas que possam examinar rapidamente grandes volumes de transações e identificar padrões de fraude em terminais físicos.\n",
    "\n",
    "**Objetivo**: \n",
    "Neste Case, o objetivo é desenvolver um modelo de machine learning para detecção de fraudes em cartões de crédito, focado exclusivamente em transações realizadas em terminais físicos.\n",
    "\n",
    "Como não há um modelo prévio de detecção de fraude, todas as fraudes são contabilizadas como perdas. Assim, o baseline inicial será definido como:\n",
    "\n",
    "$\\text{total perdido}$ = $\\text{total fraud}$\n",
    "\n",
    "sendo: \n",
    "- $\\text{total fraud}$ = soma de todos os valores das transações consideradas fraude no periodo avaliado"
   ]
  },
  {
   "cell_type": "markdown",
   "id": "12434aee",
   "metadata": {},
   "source": [
    "## 2. Entendimento dos Dados"
   ]
  },
  {
   "cell_type": "markdown",
   "id": "a8dd25e3",
   "metadata": {},
   "source": [
    "**Objetivo**: Nosso conjunto de dados foi obtido a partir do livro: \n",
    "- https://fraud-detection-handbook.github.io/fraud-detection-handbook/Chapter_3_GettingStarted/SimulatedDataset.html\n",
    "\n",
    "Nosso conjunto de dados é composto por duas tabelas:\n",
    "1. transactions\n",
    "    - **transaction_id**: Identificador único das transações;\n",
    "\n",
    "    - **tx_datetime**: Date e hora que a transação ocorreu;\n",
    "\n",
    "    - **customer_id**: Identificador único do cliente. Cada cliente tem um identificador único;\n",
    "\n",
    "    - **tx_amount**: Valor da transação;\n",
    "\n",
    "    - **tx_time_seconds**: Datetime em segundos\n",
    "    \n",
    "    - **tx_fraud**: Variável binária, com o valor 0 para transações legitmas e 1 para transações fraudulentas.\n",
    "\n",
    "\n",
    "2. Customer\n",
    "    - **customer_id**: The customer unique ID\n",
    "\n",
    "    - **(x_customer_id,y_customer_id)**: Par de coordenadas reais em uma grade 100*100 que define a localização geográfica do cliente.\n",
    "    \n",
    "    - **mean_amount / std_amount**: A média e o desvio padrão dos valores de transação dos clientes."
   ]
  },
  {
   "cell_type": "markdown",
   "id": "575a760a",
   "metadata": {},
   "source": [
    "## 3. Preparação dos Dados"
   ]
  },
  {
   "cell_type": "markdown",
   "id": "36f4bb63",
   "metadata": {},
   "source": [
    "**Objetivo**: Criar features robustas e eliminar informações desnecessárias.\n",
    "    \n",
    "- Ciclo 01:\n",
    "    - Manter as variáveis originais"
   ]
  },
  {
   "cell_type": "markdown",
   "id": "c96de331",
   "metadata": {},
   "source": [
    "## 4. Modelagem"
   ]
  },
  {
   "cell_type": "markdown",
   "id": "051646e0",
   "metadata": {},
   "source": [
    "**Objetivo**: Construir modelos preditivos e avaliar performance.\n",
    "    \n",
    "- Ciclo 01:\n",
    "    - Criar Random Forest com todas as features para obter um novo baseline.\n",
    "    - Calcular AUC-ROC, Recall, Precision, F1-Score.\n",
    "    - Analisar Feature Importance para identificar possíveis redundâncias."
   ]
  },
  {
   "cell_type": "markdown",
   "id": "bf4ae266",
   "metadata": {},
   "source": [
    "## 5. Avaliação"
   ]
  },
  {
   "cell_type": "markdown",
   "id": "a5a3b2eb",
   "metadata": {},
   "source": [
    "**Objetivo**: Verificar se o modelo atende às necessidades de detecção de fraudes.\n",
    "\n",
    "- Construir um novo $\\text{total perdido}$ baseado na matriz de confusão.\n",
    "\n",
    "- Métricas principais: \n",
    "    - Matriz de Confusão\n",
    "    - AUC-ROC, \n",
    "    - Recall, \n",
    "    - Precision, \n",
    "    - F1-Score"
   ]
  },
  {
   "cell_type": "markdown",
   "id": "02b375d6",
   "metadata": {},
   "source": [
    "## 6. Deploy (Produção)"
   ]
  },
  {
   "cell_type": "markdown",
   "id": "7680bcab",
   "metadata": {},
   "source": [
    "Em breve, nos próximos ciclos será definido."
   ]
  },
  {
   "cell_type": "markdown",
   "id": "7beec66c-f173-4478-9c15-3780fadea107",
   "metadata": {},
   "source": [
    "# Projeto"
   ]
  },
  {
   "cell_type": "markdown",
   "id": "66058469-d954-441e-93d2-4e46abb0b5c3",
   "metadata": {},
   "source": [
    "## Imports"
   ]
  },
  {
   "cell_type": "code",
   "execution_count": 2,
   "id": "506957ab-c305-475d-8b0a-f61ba319ccf7",
   "metadata": {},
   "outputs": [],
   "source": [
    "import pandas as pd\n",
    "import numpy as np\n",
    "import seaborn as sns\n",
    "\n",
    "import matplotlib.pyplot as plt\n",
    "\n",
    "from sklearn.model_selection import train_test_split"
   ]
  },
  {
   "cell_type": "markdown",
   "id": "8c3ad680-b09c-4adc-a2e0-4a4645351ea8",
   "metadata": {},
   "source": [
    "# Read Csv Files"
   ]
  },
  {
   "cell_type": "code",
   "execution_count": null,
   "id": "71e7adb2",
   "metadata": {},
   "outputs": [],
   "source": []
  },
  {
   "cell_type": "code",
   "execution_count": 3,
   "id": "46b63fcb-2367-4755-8ebc-8929531d0289",
   "metadata": {},
   "outputs": [],
   "source": [
    "main_dir = '../'\n",
    "\n",
    "transactions_df = pd.read_csv(f'{main_dir}data/raw/new_transactions.csv')\n",
    "customer_profiles_table = pd.read_csv(f'{main_dir}data/external/new_customer_profiles_table.csv')\n",
    "terminal_profiles_table = pd.read_csv(f'{main_dir}data/external/new_terminal_profiles_table.csv')"
   ]
  },
  {
   "cell_type": "markdown",
   "id": "5285e0ff-1bdf-4cd9-b001-20ffb05b43fc",
   "metadata": {},
   "source": [
    "# Checando Tipos"
   ]
  },
  {
   "cell_type": "code",
   "execution_count": 4,
   "id": "66bf360f-781d-40f3-aa9f-efc190df73c9",
   "metadata": {},
   "outputs": [
    {
     "data": {
      "text/plain": [
       "transaction_id       int64\n",
       "tx_datetime         object\n",
       "customer_id          int64\n",
       "terminal_id          int64\n",
       "tx_amount          float64\n",
       "tx_time_seconds      int64\n",
       "tx_time_days         int64\n",
       "tx_fraud             int64\n",
       "dtype: object"
      ]
     },
     "execution_count": 4,
     "metadata": {},
     "output_type": "execute_result"
    }
   ],
   "source": [
    "transactions_df.dtypes"
   ]
  },
  {
   "cell_type": "code",
   "execution_count": 5,
   "id": "2598aeec-19b0-4925-bf5e-b94b02deb486",
   "metadata": {},
   "outputs": [
    {
     "data": {
      "text/plain": [
       "customer_id             int64\n",
       "x_customer_id         float64\n",
       "y_customer_id         float64\n",
       "mean_amount           float64\n",
       "std_amount            float64\n",
       "mean_nb_tx_per_day    float64\n",
       "dtype: object"
      ]
     },
     "execution_count": 5,
     "metadata": {},
     "output_type": "execute_result"
    }
   ],
   "source": [
    "customer_profiles_table.dtypes"
   ]
  },
  {
   "cell_type": "code",
   "execution_count": 6,
   "id": "03f7189c-780a-4e87-b358-bfbd364da408",
   "metadata": {},
   "outputs": [
    {
     "data": {
      "text/plain": [
       "terminal_id        int64\n",
       "x_terminal_id    float64\n",
       "y_terminal_id    float64\n",
       "dtype: object"
      ]
     },
     "execution_count": 6,
     "metadata": {},
     "output_type": "execute_result"
    }
   ],
   "source": [
    "terminal_profiles_table.dtypes"
   ]
  },
  {
   "cell_type": "markdown",
   "id": "700415c6-9a5a-4d9a-8295-17fa25bafe43",
   "metadata": {},
   "source": [
    "# Checando NA"
   ]
  },
  {
   "cell_type": "code",
   "execution_count": 7,
   "id": "c8684e73-8bc6-40a0-a2f9-4235c53765de",
   "metadata": {},
   "outputs": [
    {
     "data": {
      "text/plain": [
       "transaction_id     0\n",
       "tx_datetime        0\n",
       "customer_id        0\n",
       "terminal_id        0\n",
       "tx_amount          0\n",
       "tx_time_seconds    0\n",
       "tx_time_days       0\n",
       "tx_fraud           0\n",
       "dtype: int64"
      ]
     },
     "execution_count": 7,
     "metadata": {},
     "output_type": "execute_result"
    }
   ],
   "source": [
    "transactions_df.isna().sum()"
   ]
  },
  {
   "cell_type": "code",
   "execution_count": 8,
   "id": "0e94ca39-b734-4d5c-84d2-7862e6c5f678",
   "metadata": {},
   "outputs": [
    {
     "data": {
      "text/plain": [
       "customer_id           0\n",
       "x_customer_id         0\n",
       "y_customer_id         0\n",
       "mean_amount           0\n",
       "std_amount            0\n",
       "mean_nb_tx_per_day    0\n",
       "dtype: int64"
      ]
     },
     "execution_count": 8,
     "metadata": {},
     "output_type": "execute_result"
    }
   ],
   "source": [
    "customer_profiles_table.isna().sum()"
   ]
  },
  {
   "cell_type": "code",
   "execution_count": 9,
   "id": "2bc7d11d-d35f-4917-b606-fa9349ba4cf5",
   "metadata": {},
   "outputs": [
    {
     "data": {
      "text/plain": [
       "terminal_id      0\n",
       "x_terminal_id    0\n",
       "y_terminal_id    0\n",
       "dtype: int64"
      ]
     },
     "execution_count": 9,
     "metadata": {},
     "output_type": "execute_result"
    }
   ],
   "source": [
    "terminal_profiles_table.isna().sum()"
   ]
  },
  {
   "cell_type": "markdown",
   "id": "ce3c3b87-e620-4f8c-8c25-3fdb23faffba",
   "metadata": {},
   "source": [
    "# Limpando dados"
   ]
  },
  {
   "cell_type": "code",
   "execution_count": 10,
   "id": "590afc37-ab0a-48f9-be40-6ffd44cc5097",
   "metadata": {},
   "outputs": [
    {
     "data": {
      "text/html": [
       "<div>\n",
       "<style scoped>\n",
       "    .dataframe tbody tr th:only-of-type {\n",
       "        vertical-align: middle;\n",
       "    }\n",
       "\n",
       "    .dataframe tbody tr th {\n",
       "        vertical-align: top;\n",
       "    }\n",
       "\n",
       "    .dataframe thead th {\n",
       "        text-align: right;\n",
       "    }\n",
       "</style>\n",
       "<table border=\"1\" class=\"dataframe\">\n",
       "  <thead>\n",
       "    <tr style=\"text-align: right;\">\n",
       "      <th></th>\n",
       "      <th>transaction_id</th>\n",
       "      <th>tx_datetime</th>\n",
       "      <th>customer_id</th>\n",
       "      <th>terminal_id</th>\n",
       "      <th>tx_amount</th>\n",
       "      <th>tx_time_seconds</th>\n",
       "      <th>tx_time_days</th>\n",
       "      <th>tx_fraud</th>\n",
       "    </tr>\n",
       "  </thead>\n",
       "  <tbody>\n",
       "    <tr>\n",
       "      <th>1061722</th>\n",
       "      <td>1061722</td>\n",
       "      <td>2018-07-20 15:10:03</td>\n",
       "      <td>1852</td>\n",
       "      <td>5410</td>\n",
       "      <td>139.56</td>\n",
       "      <td>9558603</td>\n",
       "      <td>110</td>\n",
       "      <td>0</td>\n",
       "    </tr>\n",
       "    <tr>\n",
       "      <th>92233</th>\n",
       "      <td>92233</td>\n",
       "      <td>2018-04-10 13:52:57</td>\n",
       "      <td>3484</td>\n",
       "      <td>8602</td>\n",
       "      <td>80.39</td>\n",
       "      <td>827577</td>\n",
       "      <td>9</td>\n",
       "      <td>0</td>\n",
       "    </tr>\n",
       "    <tr>\n",
       "      <th>200222</th>\n",
       "      <td>200222</td>\n",
       "      <td>2018-04-21 18:26:36</td>\n",
       "      <td>3729</td>\n",
       "      <td>1933</td>\n",
       "      <td>20.56</td>\n",
       "      <td>1794396</td>\n",
       "      <td>20</td>\n",
       "      <td>0</td>\n",
       "    </tr>\n",
       "    <tr>\n",
       "      <th>1632512</th>\n",
       "      <td>1632512</td>\n",
       "      <td>2018-09-18 09:30:08</td>\n",
       "      <td>1840</td>\n",
       "      <td>7988</td>\n",
       "      <td>9.55</td>\n",
       "      <td>14722208</td>\n",
       "      <td>170</td>\n",
       "      <td>0</td>\n",
       "    </tr>\n",
       "    <tr>\n",
       "      <th>1051488</th>\n",
       "      <td>1051488</td>\n",
       "      <td>2018-07-19 14:16:59</td>\n",
       "      <td>4977</td>\n",
       "      <td>930</td>\n",
       "      <td>43.43</td>\n",
       "      <td>9469019</td>\n",
       "      <td>109</td>\n",
       "      <td>0</td>\n",
       "    </tr>\n",
       "  </tbody>\n",
       "</table>\n",
       "</div>"
      ],
      "text/plain": [
       "         transaction_id          tx_datetime  customer_id  terminal_id  \\\n",
       "1061722         1061722  2018-07-20 15:10:03         1852         5410   \n",
       "92233             92233  2018-04-10 13:52:57         3484         8602   \n",
       "200222           200222  2018-04-21 18:26:36         3729         1933   \n",
       "1632512         1632512  2018-09-18 09:30:08         1840         7988   \n",
       "1051488         1051488  2018-07-19 14:16:59         4977          930   \n",
       "\n",
       "         tx_amount  tx_time_seconds  tx_time_days  tx_fraud  \n",
       "1061722     139.56          9558603           110         0  \n",
       "92233        80.39           827577             9         0  \n",
       "200222       20.56          1794396            20         0  \n",
       "1632512       9.55         14722208           170         0  \n",
       "1051488      43.43          9469019           109         0  "
      ]
     },
     "execution_count": 10,
     "metadata": {},
     "output_type": "execute_result"
    }
   ],
   "source": [
    "transactions_df.sample(5)"
   ]
  },
  {
   "cell_type": "code",
   "execution_count": 11,
   "id": "f9046688-c7dc-4ceb-8c39-01f39723b281",
   "metadata": {},
   "outputs": [
    {
     "data": {
      "text/html": [
       "<div>\n",
       "<style scoped>\n",
       "    .dataframe tbody tr th:only-of-type {\n",
       "        vertical-align: middle;\n",
       "    }\n",
       "\n",
       "    .dataframe tbody tr th {\n",
       "        vertical-align: top;\n",
       "    }\n",
       "\n",
       "    .dataframe thead th {\n",
       "        text-align: right;\n",
       "    }\n",
       "</style>\n",
       "<table border=\"1\" class=\"dataframe\">\n",
       "  <thead>\n",
       "    <tr style=\"text-align: right;\">\n",
       "      <th></th>\n",
       "      <th>customer_id</th>\n",
       "      <th>x_customer_id</th>\n",
       "      <th>y_customer_id</th>\n",
       "      <th>mean_amount</th>\n",
       "      <th>std_amount</th>\n",
       "      <th>mean_nb_tx_per_day</th>\n",
       "    </tr>\n",
       "  </thead>\n",
       "  <tbody>\n",
       "    <tr>\n",
       "      <th>2462</th>\n",
       "      <td>2462</td>\n",
       "      <td>23.123518</td>\n",
       "      <td>83.638572</td>\n",
       "      <td>80.771414</td>\n",
       "      <td>40.385707</td>\n",
       "      <td>3.417308</td>\n",
       "    </tr>\n",
       "    <tr>\n",
       "      <th>1605</th>\n",
       "      <td>1605</td>\n",
       "      <td>8.791557</td>\n",
       "      <td>90.621296</td>\n",
       "      <td>92.250396</td>\n",
       "      <td>46.125198</td>\n",
       "      <td>3.990824</td>\n",
       "    </tr>\n",
       "    <tr>\n",
       "      <th>4787</th>\n",
       "      <td>4787</td>\n",
       "      <td>46.631938</td>\n",
       "      <td>62.575971</td>\n",
       "      <td>68.111259</td>\n",
       "      <td>34.055629</td>\n",
       "      <td>2.230233</td>\n",
       "    </tr>\n",
       "    <tr>\n",
       "      <th>626</th>\n",
       "      <td>626</td>\n",
       "      <td>95.512603</td>\n",
       "      <td>26.024658</td>\n",
       "      <td>19.656389</td>\n",
       "      <td>9.828194</td>\n",
       "      <td>1.248484</td>\n",
       "    </tr>\n",
       "    <tr>\n",
       "      <th>1142</th>\n",
       "      <td>1142</td>\n",
       "      <td>58.766693</td>\n",
       "      <td>95.696564</td>\n",
       "      <td>17.186895</td>\n",
       "      <td>8.593448</td>\n",
       "      <td>1.106574</td>\n",
       "    </tr>\n",
       "  </tbody>\n",
       "</table>\n",
       "</div>"
      ],
      "text/plain": [
       "      customer_id  x_customer_id  y_customer_id  mean_amount  std_amount  \\\n",
       "2462         2462      23.123518      83.638572    80.771414   40.385707   \n",
       "1605         1605       8.791557      90.621296    92.250396   46.125198   \n",
       "4787         4787      46.631938      62.575971    68.111259   34.055629   \n",
       "626           626      95.512603      26.024658    19.656389    9.828194   \n",
       "1142         1142      58.766693      95.696564    17.186895    8.593448   \n",
       "\n",
       "      mean_nb_tx_per_day  \n",
       "2462            3.417308  \n",
       "1605            3.990824  \n",
       "4787            2.230233  \n",
       "626             1.248484  \n",
       "1142            1.106574  "
      ]
     },
     "execution_count": 11,
     "metadata": {},
     "output_type": "execute_result"
    }
   ],
   "source": [
    "customer_profiles_table.sample(5)"
   ]
  },
  {
   "cell_type": "code",
   "execution_count": 12,
   "id": "08b2dd08-3003-4457-a31e-65a772bd7db2",
   "metadata": {},
   "outputs": [
    {
     "data": {
      "text/html": [
       "<div>\n",
       "<style scoped>\n",
       "    .dataframe tbody tr th:only-of-type {\n",
       "        vertical-align: middle;\n",
       "    }\n",
       "\n",
       "    .dataframe tbody tr th {\n",
       "        vertical-align: top;\n",
       "    }\n",
       "\n",
       "    .dataframe thead th {\n",
       "        text-align: right;\n",
       "    }\n",
       "</style>\n",
       "<table border=\"1\" class=\"dataframe\">\n",
       "  <thead>\n",
       "    <tr style=\"text-align: right;\">\n",
       "      <th></th>\n",
       "      <th>terminal_id</th>\n",
       "      <th>x_terminal_id</th>\n",
       "      <th>y_terminal_id</th>\n",
       "    </tr>\n",
       "  </thead>\n",
       "  <tbody>\n",
       "    <tr>\n",
       "      <th>3116</th>\n",
       "      <td>3116</td>\n",
       "      <td>25.789775</td>\n",
       "      <td>13.628193</td>\n",
       "    </tr>\n",
       "    <tr>\n",
       "      <th>1813</th>\n",
       "      <td>1813</td>\n",
       "      <td>10.906496</td>\n",
       "      <td>85.050350</td>\n",
       "    </tr>\n",
       "    <tr>\n",
       "      <th>5846</th>\n",
       "      <td>5846</td>\n",
       "      <td>46.479932</td>\n",
       "      <td>2.202576</td>\n",
       "    </tr>\n",
       "    <tr>\n",
       "      <th>821</th>\n",
       "      <td>821</td>\n",
       "      <td>20.246304</td>\n",
       "      <td>85.423797</td>\n",
       "    </tr>\n",
       "    <tr>\n",
       "      <th>9821</th>\n",
       "      <td>9821</td>\n",
       "      <td>19.835613</td>\n",
       "      <td>73.037497</td>\n",
       "    </tr>\n",
       "  </tbody>\n",
       "</table>\n",
       "</div>"
      ],
      "text/plain": [
       "      terminal_id  x_terminal_id  y_terminal_id\n",
       "3116         3116      25.789775      13.628193\n",
       "1813         1813      10.906496      85.050350\n",
       "5846         5846      46.479932       2.202576\n",
       "821           821      20.246304      85.423797\n",
       "9821         9821      19.835613      73.037497"
      ]
     },
     "execution_count": 12,
     "metadata": {},
     "output_type": "execute_result"
    }
   ],
   "source": [
    "terminal_profiles_table.sample(5)"
   ]
  },
  {
   "cell_type": "markdown",
   "id": "d2ef9f28-01d7-4276-8de7-5a2a8d566097",
   "metadata": {},
   "source": [
    "Removido as colunas de media e std para evitar dataleakage"
   ]
  },
  {
   "cell_type": "code",
   "execution_count": 13,
   "id": "9ec98fd0-0d6b-4e3d-9a2a-e5532a100d31",
   "metadata": {},
   "outputs": [],
   "source": [
    "customer_profiles_table = customer_profiles_table.drop(columns=[\"std_amount\",\"mean_amount\"])"
   ]
  },
  {
   "cell_type": "markdown",
   "id": "4fdab707-b113-497d-b530-80360af67530",
   "metadata": {},
   "source": [
    "Convertido para datetime"
   ]
  },
  {
   "cell_type": "code",
   "execution_count": 14,
   "id": "a38d7cb0-6004-43de-9cf9-8382174322ca",
   "metadata": {},
   "outputs": [],
   "source": [
    "transactions_df['tx_datetime'] = pd.to_datetime(transactions_df['tx_datetime']) "
   ]
  },
  {
   "cell_type": "markdown",
   "id": "4581df98-cdc1-4660-9bb2-06c075d91e25",
   "metadata": {},
   "source": [
    "# Separação em Treino e Teste"
   ]
  },
  {
   "cell_type": "code",
   "execution_count": 15,
   "id": "69441934-ba1e-4848-a0ac-01112a8f6547",
   "metadata": {},
   "outputs": [
    {
     "data": {
      "image/png": "[encoded data removed]",
      "text/plain": [
       "<Figure size 1200x500 with 1 Axes>"
      ]
     },
     "metadata": {},
     "output_type": "display_data"
    }
   ],
   "source": [
    "transactions_df[\"tx_date\"] = transactions_df[\"tx_datetime\"].dt.date\n",
    "fraude_por_dia = transactions_df.groupby(\"tx_date\")[\"tx_fraud\"].mean()\n",
    "split_date = transactions_df[\"tx_datetime\"].quantile(0.8)\n",
    "\n",
    "plt.figure(figsize=(12, 5))\n",
    "plt.plot(fraude_por_dia, marker=\"o\", linestyle=\"-\", label=\"Taxa de fraude diária\")\n",
    "plt.axvline(split_date.date(), color=\"red\", linestyle=\"--\", label=\"Divisão Train/Test\")\n",
    "plt.xlabel(\"Data\")\n",
    "plt.ylabel(\"Taxa de Fraude\")\n",
    "plt.title(\"Taxa de Fraude ao Longo do Tempo\")\n",
    "plt.legend()\n",
    "plt.show()"
   ]
  },
  {
   "cell_type": "markdown",
   "id": "2f0bd262-1a41-4d6f-b83a-96a181bd0c28",
   "metadata": {},
   "source": [
    "A divisão em 80% faz sentido, a variação de fraudes diárias não muda muito do padrão visto anteriormente."
   ]
  },
  {
   "cell_type": "code",
   "execution_count": 16,
   "id": "2f4881a5-988b-4ef8-9cd2-e205d3ce93bd",
   "metadata": {},
   "outputs": [],
   "source": [
    "transactions_df = transactions_df.sort_values(by=\"tx_datetime\")\n",
    "\n",
    "split_date = transactions_df[\"tx_datetime\"].quantile(0.8)\n",
    "\n",
    "train_df = transactions_df[transactions_df[\"tx_datetime\"] < split_date]\n",
    "test_df = transactions_df[transactions_df[\"tx_datetime\"] >= split_date]"
   ]
  },
  {
   "cell_type": "code",
   "execution_count": 18,
   "id": "d4bcdc9e",
   "metadata": {},
   "outputs": [],
   "source": [
    "test_df.to_csv(\"../data/raw/test_data.csv\", index=False)"
   ]
  },
  {
   "cell_type": "code",
   "execution_count": 17,
   "id": "26eba6e0-a629-433b-8c4c-7e838f5c2c61",
   "metadata": {},
   "outputs": [
    {
     "data": {
      "text/html": [
       "<div>\n",
       "<style scoped>\n",
       "    .dataframe tbody tr th:only-of-type {\n",
       "        vertical-align: middle;\n",
       "    }\n",
       "\n",
       "    .dataframe tbody tr th {\n",
       "        vertical-align: top;\n",
       "    }\n",
       "\n",
       "    .dataframe thead th {\n",
       "        text-align: right;\n",
       "    }\n",
       "</style>\n",
       "<table border=\"1\" class=\"dataframe\">\n",
       "  <thead>\n",
       "    <tr style=\"text-align: right;\">\n",
       "      <th></th>\n",
       "      <th>transaction_id</th>\n",
       "      <th>tx_datetime</th>\n",
       "      <th>customer_id</th>\n",
       "      <th>terminal_id</th>\n",
       "      <th>tx_amount</th>\n",
       "      <th>tx_time_seconds</th>\n",
       "      <th>tx_time_days</th>\n",
       "      <th>tx_fraud</th>\n",
       "      <th>tx_date</th>\n",
       "    </tr>\n",
       "  </thead>\n",
       "  <tbody>\n",
       "    <tr>\n",
       "      <th>0</th>\n",
       "      <td>0</td>\n",
       "      <td>2018-04-01 00:00:31</td>\n",
       "      <td>596</td>\n",
       "      <td>3156</td>\n",
       "      <td>57.16</td>\n",
       "      <td>31</td>\n",
       "      <td>0</td>\n",
       "      <td>0</td>\n",
       "      <td>2018-04-01</td>\n",
       "    </tr>\n",
       "    <tr>\n",
       "      <th>1</th>\n",
       "      <td>1</td>\n",
       "      <td>2018-04-01 00:02:10</td>\n",
       "      <td>4961</td>\n",
       "      <td>3412</td>\n",
       "      <td>81.51</td>\n",
       "      <td>130</td>\n",
       "      <td>0</td>\n",
       "      <td>0</td>\n",
       "      <td>2018-04-01</td>\n",
       "    </tr>\n",
       "    <tr>\n",
       "      <th>2</th>\n",
       "      <td>2</td>\n",
       "      <td>2018-04-01 00:07:56</td>\n",
       "      <td>2</td>\n",
       "      <td>1365</td>\n",
       "      <td>146.00</td>\n",
       "      <td>476</td>\n",
       "      <td>0</td>\n",
       "      <td>0</td>\n",
       "      <td>2018-04-01</td>\n",
       "    </tr>\n",
       "    <tr>\n",
       "      <th>3</th>\n",
       "      <td>3</td>\n",
       "      <td>2018-04-01 00:09:29</td>\n",
       "      <td>4128</td>\n",
       "      <td>8737</td>\n",
       "      <td>64.49</td>\n",
       "      <td>569</td>\n",
       "      <td>0</td>\n",
       "      <td>0</td>\n",
       "      <td>2018-04-01</td>\n",
       "    </tr>\n",
       "    <tr>\n",
       "      <th>4</th>\n",
       "      <td>4</td>\n",
       "      <td>2018-04-01 00:10:34</td>\n",
       "      <td>927</td>\n",
       "      <td>9906</td>\n",
       "      <td>50.99</td>\n",
       "      <td>634</td>\n",
       "      <td>0</td>\n",
       "      <td>0</td>\n",
       "      <td>2018-04-01</td>\n",
       "    </tr>\n",
       "    <tr>\n",
       "      <th>...</th>\n",
       "      <td>...</td>\n",
       "      <td>...</td>\n",
       "      <td>...</td>\n",
       "      <td>...</td>\n",
       "      <td>...</td>\n",
       "      <td>...</td>\n",
       "      <td>...</td>\n",
       "      <td>...</td>\n",
       "      <td>...</td>\n",
       "    </tr>\n",
       "    <tr>\n",
       "      <th>1403319</th>\n",
       "      <td>1403319</td>\n",
       "      <td>2018-08-25 10:32:11</td>\n",
       "      <td>4722</td>\n",
       "      <td>9374</td>\n",
       "      <td>12.03</td>\n",
       "      <td>12652331</td>\n",
       "      <td>146</td>\n",
       "      <td>0</td>\n",
       "      <td>2018-08-25</td>\n",
       "    </tr>\n",
       "    <tr>\n",
       "      <th>1403320</th>\n",
       "      <td>1403320</td>\n",
       "      <td>2018-08-25 10:32:15</td>\n",
       "      <td>3244</td>\n",
       "      <td>6823</td>\n",
       "      <td>13.41</td>\n",
       "      <td>12652335</td>\n",
       "      <td>146</td>\n",
       "      <td>0</td>\n",
       "      <td>2018-08-25</td>\n",
       "    </tr>\n",
       "    <tr>\n",
       "      <th>1403321</th>\n",
       "      <td>1403321</td>\n",
       "      <td>2018-08-25 10:32:19</td>\n",
       "      <td>3521</td>\n",
       "      <td>2612</td>\n",
       "      <td>131.27</td>\n",
       "      <td>12652339</td>\n",
       "      <td>146</td>\n",
       "      <td>0</td>\n",
       "      <td>2018-08-25</td>\n",
       "    </tr>\n",
       "    <tr>\n",
       "      <th>1403322</th>\n",
       "      <td>1403322</td>\n",
       "      <td>2018-08-25 10:32:20</td>\n",
       "      <td>1101</td>\n",
       "      <td>6949</td>\n",
       "      <td>92.54</td>\n",
       "      <td>12652340</td>\n",
       "      <td>146</td>\n",
       "      <td>0</td>\n",
       "      <td>2018-08-25</td>\n",
       "    </tr>\n",
       "    <tr>\n",
       "      <th>1403323</th>\n",
       "      <td>1403323</td>\n",
       "      <td>2018-08-25 10:32:28</td>\n",
       "      <td>4027</td>\n",
       "      <td>1497</td>\n",
       "      <td>128.95</td>\n",
       "      <td>12652348</td>\n",
       "      <td>146</td>\n",
       "      <td>0</td>\n",
       "      <td>2018-08-25</td>\n",
       "    </tr>\n",
       "  </tbody>\n",
       "</table>\n",
       "<p>1403324 rows × 9 columns</p>\n",
       "</div>"
      ],
      "text/plain": [
       "         transaction_id         tx_datetime  customer_id  terminal_id  \\\n",
       "0                     0 2018-04-01 00:00:31          596         3156   \n",
       "1                     1 2018-04-01 00:02:10         4961         3412   \n",
       "2                     2 2018-04-01 00:07:56            2         1365   \n",
       "3                     3 2018-04-01 00:09:29         4128         8737   \n",
       "4                     4 2018-04-01 00:10:34          927         9906   \n",
       "...                 ...                 ...          ...          ...   \n",
       "1403319         1403319 2018-08-25 10:32:11         4722         9374   \n",
       "1403320         1403320 2018-08-25 10:32:15         3244         6823   \n",
       "1403321         1403321 2018-08-25 10:32:19         3521         2612   \n",
       "1403322         1403322 2018-08-25 10:32:20         1101         6949   \n",
       "1403323         1403323 2018-08-25 10:32:28         4027         1497   \n",
       "\n",
       "         tx_amount  tx_time_seconds  tx_time_days  tx_fraud     tx_date  \n",
       "0            57.16               31             0         0  2018-04-01  \n",
       "1            81.51              130             0         0  2018-04-01  \n",
       "2           146.00              476             0         0  2018-04-01  \n",
       "3            64.49              569             0         0  2018-04-01  \n",
       "4            50.99              634             0         0  2018-04-01  \n",
       "...            ...              ...           ...       ...         ...  \n",
       "1403319      12.03         12652331           146         0  2018-08-25  \n",
       "1403320      13.41         12652335           146         0  2018-08-25  \n",
       "1403321     131.27         12652339           146         0  2018-08-25  \n",
       "1403322      92.54         12652340           146         0  2018-08-25  \n",
       "1403323     128.95         12652348           146         0  2018-08-25  \n",
       "\n",
       "[1403324 rows x 9 columns]"
      ]
     },
     "execution_count": 17,
     "metadata": {},
     "output_type": "execute_result"
    }
   ],
   "source": [
    "train_df"
   ]
  },
  {
   "cell_type": "code",
   "execution_count": 18,
   "id": "00bf1bda-ce27-4386-a9fd-ae0fedec9693",
   "metadata": {},
   "outputs": [],
   "source": [
    "df_merged = pd.merge(train_df,customer_profiles_table, on='customer_id', how='left')\n",
    "df_train_merged = pd.merge(df_merged, terminal_profiles_table, on='terminal_id', how='left')\n",
    "\n",
    "df_merged = pd.merge(test_df,customer_profiles_table, on='customer_id',how='left')\n",
    "df_test_merged = pd.merge(df_merged, terminal_profiles_table, on='terminal_id', how='left')"
   ]
  },
  {
   "cell_type": "code",
   "execution_count": 20,
   "id": "b1e5f4cb-accc-422c-b0d9-30031d4d5c51",
   "metadata": {},
   "outputs": [],
   "source": [
    "df_train_merged.to_parquet(\"../data/processed/ciclo01/train_df_v1.parquet\", compression=\"zstd\", index=False)\n",
    "df_test_merged.to_parquet(\"../data/processed/ciclo01/test_df_v1.parquet\", index=False)\n",
    "\n",
    "df_test_merged.to_csv(\"../data/raw/test_data.csv\", index=False)"
   ]
  },
  {
   "cell_type": "code",
   "execution_count": 19,
   "id": "4f8d756b-9c46-432c-ab10-408d3e7b5ebe",
   "metadata": {},
   "outputs": [
    {
     "data": {
      "text/plain": [
       "transaction_id              int64\n",
       "tx_datetime        datetime64[ns]\n",
       "customer_id                 int64\n",
       "terminal_id                 int64\n",
       "tx_amount                 float64\n",
       "tx_time_seconds             int64\n",
       "tx_time_days                int64\n",
       "tx_fraud                    int64\n",
       "tx_date                    object\n",
       "dtype: object"
      ]
     },
     "execution_count": 19,
     "metadata": {},
     "output_type": "execute_result"
    }
   ],
   "source": [
    "train_df.dtypes"
   ]
  },
  {
   "cell_type": "code",
   "execution_count": 20,
   "id": "f3f66182-cf4b-4de5-b53b-4362aa1d178a",
   "metadata": {},
   "outputs": [],
   "source": [
    "train_df = df_train_merged.copy()\n",
    "test_df = df_test_merged.copy()"
   ]
  },
  {
   "cell_type": "code",
   "execution_count": 21,
   "id": "b806541a-bb2a-4ded-947a-24b373d814a1",
   "metadata": {
    "editable": true,
    "slideshow": {
     "slide_type": ""
    },
    "tags": []
   },
   "outputs": [
    {
     "data": {
      "text/plain": [
       "(1403324, 14)"
      ]
     },
     "execution_count": 21,
     "metadata": {},
     "output_type": "execute_result"
    }
   ],
   "source": [
    "train_df.shape"
   ]
  },
  {
   "cell_type": "markdown",
   "id": "cce37eb2-b418-4f21-973a-7aa9a3b140a3",
   "metadata": {},
   "source": [
    "# EDA"
   ]
  },
  {
   "cell_type": "code",
   "execution_count": 22,
   "id": "26294e0b-4f87-450c-98dd-be82b02bcabc",
   "metadata": {},
   "outputs": [
    {
     "data": {
      "image/png": "[encoded data removed]",
      "text/plain": [
       "<Figure size 1200x800 with 2 Axes>"
      ]
     },
     "metadata": {},
     "output_type": "display_data"
    }
   ],
   "source": [
    "num_attributes = train_df.select_dtypes(include = ['int64', 'float64'])\n",
    "\n",
    "plt.figure(figsize=(12, 8))\n",
    "corr_matrix = num_attributes.corr()\n",
    "sns.heatmap(corr_matrix, annot=True, fmt=\".2f\", cmap=\"coolwarm\", center=0)\n",
    "plt.title(\"Mapa de Correlação Entre as Variáveis\")\n",
    "plt.show()"
   ]
  },
  {
   "cell_type": "markdown",
   "id": "0f07910c-fd2b-4a0d-abae-b08c1cd8829b",
   "metadata": {},
   "source": [
    "Como droparemos os ids, a alta correlação de tx_time_seconds acabará."
   ]
  },
  {
   "cell_type": "code",
   "execution_count": 23,
   "id": "ebefd5f4-83fc-4461-b7dc-aabc53e3108a",
   "metadata": {},
   "outputs": [
    {
     "name": "stderr",
     "output_type": "stream",
     "text": [
      "C:\\Users\\caiom\\AppData\\Local\\Temp\\ipykernel_14444\\2519046426.py:3: FutureWarning: \n",
      "\n",
      "Passing `palette` without assigning `hue` is deprecated and will be removed in v0.14.0. Assign the `x` variable to `hue` and set `legend=False` for the same effect.\n",
      "\n",
      "  sns.boxplot(data=train_df, x=\"tx_fraud\", y=\"tx_amount\", showfliers=False, palette=\"coolwarm\")\n"
     ]
    },
    {
     "data": {
      "image/png": "[encoded data removed]",
      "text/plain": [
       "<Figure size 1000x500 with 1 Axes>"
      ]
     },
     "metadata": {},
     "output_type": "display_data"
    }
   ],
   "source": [
    "# Analisar tempo entre transações normais vs fraudes\n",
    "plt.figure(figsize=(10, 5))\n",
    "sns.boxplot(data=train_df, x=\"tx_fraud\", y=\"tx_amount\", showfliers=False, palette=\"coolwarm\")\n",
    "plt.title(\"Amount por tipo de transação\")\n",
    "plt.xlabel(\"Fraude (1) vs. Não Fraude (0)\")\n",
    "plt.ylabel(\"Amount\")\n",
    "plt.show()"
   ]
  },
  {
   "cell_type": "code",
   "execution_count": 24,
   "id": "2750d706-168a-4056-8e89-d0824934e357",
   "metadata": {},
   "outputs": [
    {
     "data": {
      "text/html": [
       "<div>\n",
       "<style scoped>\n",
       "    .dataframe tbody tr th:only-of-type {\n",
       "        vertical-align: middle;\n",
       "    }\n",
       "\n",
       "    .dataframe tbody tr th {\n",
       "        vertical-align: top;\n",
       "    }\n",
       "\n",
       "    .dataframe thead th {\n",
       "        text-align: right;\n",
       "    }\n",
       "</style>\n",
       "<table border=\"1\" class=\"dataframe\">\n",
       "  <thead>\n",
       "    <tr style=\"text-align: right;\">\n",
       "      <th></th>\n",
       "      <th>tx_amount</th>\n",
       "    </tr>\n",
       "    <tr>\n",
       "      <th>tx_fraud</th>\n",
       "      <th></th>\n",
       "    </tr>\n",
       "  </thead>\n",
       "  <tbody>\n",
       "    <tr>\n",
       "      <th>0</th>\n",
       "      <td>52.986005</td>\n",
       "    </tr>\n",
       "    <tr>\n",
       "      <th>1</th>\n",
       "      <td>131.298758</td>\n",
       "    </tr>\n",
       "  </tbody>\n",
       "</table>\n",
       "</div>"
      ],
      "text/plain": [
       "           tx_amount\n",
       "tx_fraud            \n",
       "0          52.986005\n",
       "1         131.298758"
      ]
     },
     "execution_count": 24,
     "metadata": {},
     "output_type": "execute_result"
    }
   ],
   "source": [
    "train_df.groupby(\"tx_fraud\")[[\"tx_amount\"]].mean()"
   ]
  },
  {
   "cell_type": "markdown",
   "id": "22988183-b5dd-409a-8172-8451074aecf4",
   "metadata": {},
   "source": [
    "O boxplot e a média das transações indica que transações maiores tem chance de serem fraudulentas"
   ]
  },
  {
   "cell_type": "code",
   "execution_count": 25,
   "id": "a693a95e-d462-45d5-8130-80d1522c88a1",
   "metadata": {},
   "outputs": [
    {
     "name": "stderr",
     "output_type": "stream",
     "text": [
      "C:\\Users\\caiom\\AppData\\Local\\Temp\\ipykernel_14444\\2339579971.py:3: FutureWarning: \n",
      "\n",
      "Passing `palette` without assigning `hue` is deprecated and will be removed in v0.14.0. Assign the `x` variable to `hue` and set `legend=False` for the same effect.\n",
      "\n",
      "  sns.boxplot(data=train_df, x=\"tx_fraud\", y=\"tx_time_seconds\", showfliers=False, palette=\"coolwarm\")\n"
     ]
    },
    {
     "data": {
      "image/png": "[encoded data removed]",
      "text/plain": [
       "<Figure size 1000x500 with 1 Axes>"
      ]
     },
     "metadata": {},
     "output_type": "display_data"
    }
   ],
   "source": [
    "# Analisar tempo entre transações normais vs fraudes\n",
    "plt.figure(figsize=(10, 5))\n",
    "sns.boxplot(data=train_df, x=\"tx_fraud\", y=\"tx_time_seconds\", showfliers=False, palette=\"coolwarm\")\n",
    "plt.title(\"Hora da transação (em segundos) por tipo de transação\")\n",
    "plt.xlabel(\"Fraude (1) vs. Não Fraude (0)\")\n",
    "plt.ylabel(\"segundos\")\n",
    "plt.show()"
   ]
  },
  {
   "cell_type": "markdown",
   "id": "555ed86c-dd7b-4307-805e-48eec058480b",
   "metadata": {},
   "source": [
    "Não deu pra ver diferenças."
   ]
  },
  {
   "cell_type": "markdown",
   "id": "21d28b9d-8c5f-4723-81c6-ca34e75c7dcb",
   "metadata": {},
   "source": [
    "# Treinando Modelo"
   ]
  },
  {
   "cell_type": "code",
   "execution_count": 26,
   "id": "f30c7256-087d-4641-9059-ee1d322a024a",
   "metadata": {},
   "outputs": [
    {
     "data": {
      "text/html": [
       "<div>\n",
       "<style scoped>\n",
       "    .dataframe tbody tr th:only-of-type {\n",
       "        vertical-align: middle;\n",
       "    }\n",
       "\n",
       "    .dataframe tbody tr th {\n",
       "        vertical-align: top;\n",
       "    }\n",
       "\n",
       "    .dataframe thead th {\n",
       "        text-align: right;\n",
       "    }\n",
       "</style>\n",
       "<table border=\"1\" class=\"dataframe\">\n",
       "  <thead>\n",
       "    <tr style=\"text-align: right;\">\n",
       "      <th></th>\n",
       "      <th>transaction_id</th>\n",
       "      <th>tx_datetime</th>\n",
       "      <th>customer_id</th>\n",
       "      <th>terminal_id</th>\n",
       "      <th>tx_amount</th>\n",
       "      <th>tx_time_seconds</th>\n",
       "      <th>tx_time_days</th>\n",
       "      <th>tx_fraud</th>\n",
       "      <th>tx_date</th>\n",
       "      <th>x_customer_id</th>\n",
       "      <th>y_customer_id</th>\n",
       "      <th>mean_nb_tx_per_day</th>\n",
       "      <th>x_terminal_id</th>\n",
       "      <th>y_terminal_id</th>\n",
       "    </tr>\n",
       "  </thead>\n",
       "  <tbody>\n",
       "    <tr>\n",
       "      <th>271634</th>\n",
       "      <td>271634</td>\n",
       "      <td>2018-04-29 09:16:50</td>\n",
       "      <td>245</td>\n",
       "      <td>6254</td>\n",
       "      <td>49.73</td>\n",
       "      <td>2452610</td>\n",
       "      <td>28</td>\n",
       "      <td>0</td>\n",
       "      <td>2018-04-29</td>\n",
       "      <td>92.171907</td>\n",
       "      <td>80.526386</td>\n",
       "      <td>2.236695</td>\n",
       "      <td>92.952555</td>\n",
       "      <td>81.492643</td>\n",
       "    </tr>\n",
       "    <tr>\n",
       "      <th>337794</th>\n",
       "      <td>337794</td>\n",
       "      <td>2018-05-06 07:26:04</td>\n",
       "      <td>2566</td>\n",
       "      <td>5560</td>\n",
       "      <td>93.94</td>\n",
       "      <td>3050764</td>\n",
       "      <td>35</td>\n",
       "      <td>0</td>\n",
       "      <td>2018-05-06</td>\n",
       "      <td>91.923459</td>\n",
       "      <td>11.379939</td>\n",
       "      <td>1.471564</td>\n",
       "      <td>88.382687</td>\n",
       "      <td>11.118042</td>\n",
       "    </tr>\n",
       "    <tr>\n",
       "      <th>1193580</th>\n",
       "      <td>1193580</td>\n",
       "      <td>2018-08-03 11:50:30</td>\n",
       "      <td>796</td>\n",
       "      <td>9169</td>\n",
       "      <td>5.46</td>\n",
       "      <td>10756230</td>\n",
       "      <td>124</td>\n",
       "      <td>0</td>\n",
       "      <td>2018-08-03</td>\n",
       "      <td>71.697507</td>\n",
       "      <td>58.448299</td>\n",
       "      <td>2.265047</td>\n",
       "      <td>68.626103</td>\n",
       "      <td>60.892891</td>\n",
       "    </tr>\n",
       "    <tr>\n",
       "      <th>222085</th>\n",
       "      <td>222085</td>\n",
       "      <td>2018-04-24 06:19:05</td>\n",
       "      <td>1321</td>\n",
       "      <td>7785</td>\n",
       "      <td>5.40</td>\n",
       "      <td>2009945</td>\n",
       "      <td>23</td>\n",
       "      <td>0</td>\n",
       "      <td>2018-04-24</td>\n",
       "      <td>26.652645</td>\n",
       "      <td>17.065622</td>\n",
       "      <td>2.310941</td>\n",
       "      <td>24.304544</td>\n",
       "      <td>15.644663</td>\n",
       "    </tr>\n",
       "    <tr>\n",
       "      <th>611073</th>\n",
       "      <td>611073</td>\n",
       "      <td>2018-06-03 14:57:14</td>\n",
       "      <td>655</td>\n",
       "      <td>8645</td>\n",
       "      <td>112.91</td>\n",
       "      <td>5497034</td>\n",
       "      <td>63</td>\n",
       "      <td>0</td>\n",
       "      <td>2018-06-03</td>\n",
       "      <td>1.434915</td>\n",
       "      <td>61.148532</td>\n",
       "      <td>3.268994</td>\n",
       "      <td>0.287424</td>\n",
       "      <td>57.012004</td>\n",
       "    </tr>\n",
       "  </tbody>\n",
       "</table>\n",
       "</div>"
      ],
      "text/plain": [
       "         transaction_id         tx_datetime  customer_id  terminal_id  \\\n",
       "271634           271634 2018-04-29 09:16:50          245         6254   \n",
       "337794           337794 2018-05-06 07:26:04         2566         5560   \n",
       "1193580         1193580 2018-08-03 11:50:30          796         9169   \n",
       "222085           222085 2018-04-24 06:19:05         1321         7785   \n",
       "611073           611073 2018-06-03 14:57:14          655         8645   \n",
       "\n",
       "         tx_amount  tx_time_seconds  tx_time_days  tx_fraud     tx_date  \\\n",
       "271634       49.73          2452610            28         0  2018-04-29   \n",
       "337794       93.94          3050764            35         0  2018-05-06   \n",
       "1193580       5.46         10756230           124         0  2018-08-03   \n",
       "222085        5.40          2009945            23         0  2018-04-24   \n",
       "611073      112.91          5497034            63         0  2018-06-03   \n",
       "\n",
       "         x_customer_id  y_customer_id  mean_nb_tx_per_day  x_terminal_id  \\\n",
       "271634       92.171907      80.526386            2.236695      92.952555   \n",
       "337794       91.923459      11.379939            1.471564      88.382687   \n",
       "1193580      71.697507      58.448299            2.265047      68.626103   \n",
       "222085       26.652645      17.065622            2.310941      24.304544   \n",
       "611073        1.434915      61.148532            3.268994       0.287424   \n",
       "\n",
       "         y_terminal_id  \n",
       "271634       81.492643  \n",
       "337794       11.118042  \n",
       "1193580      60.892891  \n",
       "222085       15.644663  \n",
       "611073       57.012004  "
      ]
     },
     "execution_count": 26,
     "metadata": {},
     "output_type": "execute_result"
    }
   ],
   "source": [
    "train_df.sample(5)"
   ]
  },
  {
   "cell_type": "code",
   "execution_count": 27,
   "id": "6739bfe5-3d8a-473a-b5ac-7856962bf81d",
   "metadata": {},
   "outputs": [],
   "source": [
    "cols_to_drop = ['transaction_id',\"tx_datetime\",\"customer_id\",\"terminal_id\", \"tx_date\",\"x_customer_id\",\"y_customer_id\",\"x_terminal_id\",\"y_terminal_id\",\"tx_fraud\"]\n",
    "features = [col for col in train_df.columns if col not in cols_to_drop]\n",
    "X_train, y_train = train_df[features], train_df[\"tx_fraud\"]\n",
    "X_test, y_test = test_df[features], test_df[\"tx_fraud\"]"
   ]
  },
  {
   "cell_type": "code",
   "execution_count": 28,
   "id": "6f40fcaa-6afb-4964-b1d2-c1a635179953",
   "metadata": {},
   "outputs": [
    {
     "data": {
      "text/html": [
       "<style>#sk-container-id-1 {\n",
       "  /* Definition of color scheme common for light and dark mode */\n",
       "  --sklearn-color-text: #000;\n",
       "  --sklearn-color-text-muted: #666;\n",
       "  --sklearn-color-line: gray;\n",
       "  /* Definition of color scheme for unfitted estimators */\n",
       "  --sklearn-color-unfitted-level-0: #fff5e6;\n",
       "  --sklearn-color-unfitted-level-1: #f6e4d2;\n",
       "  --sklearn-color-unfitted-level-2: #ffe0b3;\n",
       "  --sklearn-color-unfitted-level-3: chocolate;\n",
       "  /* Definition of color scheme for fitted estimators */\n",
       "  --sklearn-color-fitted-level-0: #f0f8ff;\n",
       "  --sklearn-color-fitted-level-1: #d4ebff;\n",
       "  --sklearn-color-fitted-level-2: #b3dbfd;\n",
       "  --sklearn-color-fitted-level-3: cornflowerblue;\n",
       "\n",
       "  /* Specific color for light theme */\n",
       "  --sklearn-color-text-on-default-background: var(--sg-text-color, var(--theme-code-foreground, var(--jp-content-font-color1, black)));\n",
       "  --sklearn-color-background: var(--sg-background-color, var(--theme-background, var(--jp-layout-color0, white)));\n",
       "  --sklearn-color-border-box: var(--sg-text-color, var(--theme-code-foreground, var(--jp-content-font-color1, black)));\n",
       "  --sklearn-color-icon: #696969;\n",
       "\n",
       "  @media (prefers-color-scheme: dark) {\n",
       "    /* Redefinition of color scheme for dark theme */\n",
       "    --sklearn-color-text-on-default-background: var(--sg-text-color, var(--theme-code-foreground, var(--jp-content-font-color1, white)));\n",
       "    --sklearn-color-background: var(--sg-background-color, var(--theme-background, var(--jp-layout-color0, #111)));\n",
       "    --sklearn-color-border-box: var(--sg-text-color, var(--theme-code-foreground, var(--jp-content-font-color1, white)));\n",
       "    --sklearn-color-icon: #878787;\n",
       "  }\n",
       "}\n",
       "\n",
       "#sk-container-id-1 {\n",
       "  color: var(--sklearn-color-text);\n",
       "}\n",
       "\n",
       "#sk-container-id-1 pre {\n",
       "  padding: 0;\n",
       "}\n",
       "\n",
       "#sk-container-id-1 input.sk-hidden--visually {\n",
       "  border: 0;\n",
       "  clip: rect(1px 1px 1px 1px);\n",
       "  clip: rect(1px, 1px, 1px, 1px);\n",
       "  height: 1px;\n",
       "  margin: -1px;\n",
       "  overflow: hidden;\n",
       "  padding: 0;\n",
       "  position: absolute;\n",
       "  width: 1px;\n",
       "}\n",
       "\n",
       "#sk-container-id-1 div.sk-dashed-wrapped {\n",
       "  border: 1px dashed var(--sklearn-color-line);\n",
       "  margin: 0 0.4em 0.5em 0.4em;\n",
       "  box-sizing: border-box;\n",
       "  padding-bottom: 0.4em;\n",
       "  background-color: var(--sklearn-color-background);\n",
       "}\n",
       "\n",
       "#sk-container-id-1 div.sk-container {\n",
       "  /* jupyter's `normalize.less` sets `[hidden] { display: none; }`\n",
       "     but bootstrap.min.css set `[hidden] { display: none !important; }`\n",
       "     so we also need the `!important` here to be able to override the\n",
       "     default hidden behavior on the sphinx rendered scikit-learn.org.\n",
       "     See: https://github.com/scikit-learn/scikit-learn/issues/21755 */\n",
       "  display: inline-block !important;\n",
       "  position: relative;\n",
       "}\n",
       "\n",
       "#sk-container-id-1 div.sk-text-repr-fallback {\n",
       "  display: none;\n",
       "}\n",
       "\n",
       "div.sk-parallel-item,\n",
       "div.sk-serial,\n",
       "div.sk-item {\n",
       "  /* draw centered vertical line to link estimators */\n",
       "  background-image: linear-gradient(var(--sklearn-color-text-on-default-background), var(--sklearn-color-text-on-default-background));\n",
       "  background-size: 2px 100%;\n",
       "  background-repeat: no-repeat;\n",
       "  background-position: center center;\n",
       "}\n",
       "\n",
       "/* Parallel-specific style estimator block */\n",
       "\n",
       "#sk-container-id-1 div.sk-parallel-item::after {\n",
       "  content: \"\";\n",
       "  width: 100%;\n",
       "  border-bottom: 2px solid var(--sklearn-color-text-on-default-background);\n",
       "  flex-grow: 1;\n",
       "}\n",
       "\n",
       "#sk-container-id-1 div.sk-parallel {\n",
       "  display: flex;\n",
       "  align-items: stretch;\n",
       "  justify-content: center;\n",
       "  background-color: var(--sklearn-color-background);\n",
       "  position: relative;\n",
       "}\n",
       "\n",
       "#sk-container-id-1 div.sk-parallel-item {\n",
       "  display: flex;\n",
       "  flex-direction: column;\n",
       "}\n",
       "\n",
       "#sk-container-id-1 div.sk-parallel-item:first-child::after {\n",
       "  align-self: flex-end;\n",
       "  width: 50%;\n",
       "}\n",
       "\n",
       "#sk-container-id-1 div.sk-parallel-item:last-child::after {\n",
       "  align-self: flex-start;\n",
       "  width: 50%;\n",
       "}\n",
       "\n",
       "#sk-container-id-1 div.sk-parallel-item:only-child::after {\n",
       "  width: 0;\n",
       "}\n",
       "\n",
       "/* Serial-specific style estimator block */\n",
       "\n",
       "#sk-container-id-1 div.sk-serial {\n",
       "  display: flex;\n",
       "  flex-direction: column;\n",
       "  align-items: center;\n",
       "  background-color: var(--sklearn-color-background);\n",
       "  padding-right: 1em;\n",
       "  padding-left: 1em;\n",
       "}\n",
       "\n",
       "\n",
       "/* Toggleable style: style used for estimator/Pipeline/ColumnTransformer box that is\n",
       "clickable and can be expanded/collapsed.\n",
       "- Pipeline and ColumnTransformer use this feature and define the default style\n",
       "- Estimators will overwrite some part of the style using the `sk-estimator` class\n",
       "*/\n",
       "\n",
       "/* Pipeline and ColumnTransformer style (default) */\n",
       "\n",
       "#sk-container-id-1 div.sk-toggleable {\n",
       "  /* Default theme specific background. It is overwritten whether we have a\n",
       "  specific estimator or a Pipeline/ColumnTransformer */\n",
       "  background-color: var(--sklearn-color-background);\n",
       "}\n",
       "\n",
       "/* Toggleable label */\n",
       "#sk-container-id-1 label.sk-toggleable__label {\n",
       "  cursor: pointer;\n",
       "  display: flex;\n",
       "  width: 100%;\n",
       "  margin-bottom: 0;\n",
       "  padding: 0.5em;\n",
       "  box-sizing: border-box;\n",
       "  text-align: center;\n",
       "  align-items: start;\n",
       "  justify-content: space-between;\n",
       "  gap: 0.5em;\n",
       "}\n",
       "\n",
       "#sk-container-id-1 label.sk-toggleable__label .caption {\n",
       "  font-size: 0.6rem;\n",
       "  font-weight: lighter;\n",
       "  color: var(--sklearn-color-text-muted);\n",
       "}\n",
       "\n",
       "#sk-container-id-1 label.sk-toggleable__label-arrow:before {\n",
       "  /* Arrow on the left of the label */\n",
       "  content: \"▸\";\n",
       "  float: left;\n",
       "  margin-right: 0.25em;\n",
       "  color: var(--sklearn-color-icon);\n",
       "}\n",
       "\n",
       "#sk-container-id-1 label.sk-toggleable__label-arrow:hover:before {\n",
       "  color: var(--sklearn-color-text);\n",
       "}\n",
       "\n",
       "/* Toggleable content - dropdown */\n",
       "\n",
       "#sk-container-id-1 div.sk-toggleable__content {\n",
       "  max-height: 0;\n",
       "  max-width: 0;\n",
       "  overflow: hidden;\n",
       "  text-align: left;\n",
       "  /* unfitted */\n",
       "  background-color: var(--sklearn-color-unfitted-level-0);\n",
       "}\n",
       "\n",
       "#sk-container-id-1 div.sk-toggleable__content.fitted {\n",
       "  /* fitted */\n",
       "  background-color: var(--sklearn-color-fitted-level-0);\n",
       "}\n",
       "\n",
       "#sk-container-id-1 div.sk-toggleable__content pre {\n",
       "  margin: 0.2em;\n",
       "  border-radius: 0.25em;\n",
       "  color: var(--sklearn-color-text);\n",
       "  /* unfitted */\n",
       "  background-color: var(--sklearn-color-unfitted-level-0);\n",
       "}\n",
       "\n",
       "#sk-container-id-1 div.sk-toggleable__content.fitted pre {\n",
       "  /* unfitted */\n",
       "  background-color: var(--sklearn-color-fitted-level-0);\n",
       "}\n",
       "\n",
       "#sk-container-id-1 input.sk-toggleable__control:checked~div.sk-toggleable__content {\n",
       "  /* Expand drop-down */\n",
       "  max-height: 200px;\n",
       "  max-width: 100%;\n",
       "  overflow: auto;\n",
       "}\n",
       "\n",
       "#sk-container-id-1 input.sk-toggleable__control:checked~label.sk-toggleable__label-arrow:before {\n",
       "  content: \"▾\";\n",
       "}\n",
       "\n",
       "/* Pipeline/ColumnTransformer-specific style */\n",
       "\n",
       "#sk-container-id-1 div.sk-label input.sk-toggleable__control:checked~label.sk-toggleable__label {\n",
       "  color: var(--sklearn-color-text);\n",
       "  background-color: var(--sklearn-color-unfitted-level-2);\n",
       "}\n",
       "\n",
       "#sk-container-id-1 div.sk-label.fitted input.sk-toggleable__control:checked~label.sk-toggleable__label {\n",
       "  background-color: var(--sklearn-color-fitted-level-2);\n",
       "}\n",
       "\n",
       "/* Estimator-specific style */\n",
       "\n",
       "/* Colorize estimator box */\n",
       "#sk-container-id-1 div.sk-estimator input.sk-toggleable__control:checked~label.sk-toggleable__label {\n",
       "  /* unfitted */\n",
       "  background-color: var(--sklearn-color-unfitted-level-2);\n",
       "}\n",
       "\n",
       "#sk-container-id-1 div.sk-estimator.fitted input.sk-toggleable__control:checked~label.sk-toggleable__label {\n",
       "  /* fitted */\n",
       "  background-color: var(--sklearn-color-fitted-level-2);\n",
       "}\n",
       "\n",
       "#sk-container-id-1 div.sk-label label.sk-toggleable__label,\n",
       "#sk-container-id-1 div.sk-label label {\n",
       "  /* The background is the default theme color */\n",
       "  color: var(--sklearn-color-text-on-default-background);\n",
       "}\n",
       "\n",
       "/* On hover, darken the color of the background */\n",
       "#sk-container-id-1 div.sk-label:hover label.sk-toggleable__label {\n",
       "  color: var(--sklearn-color-text);\n",
       "  background-color: var(--sklearn-color-unfitted-level-2);\n",
       "}\n",
       "\n",
       "/* Label box, darken color on hover, fitted */\n",
       "#sk-container-id-1 div.sk-label.fitted:hover label.sk-toggleable__label.fitted {\n",
       "  color: var(--sklearn-color-text);\n",
       "  background-color: var(--sklearn-color-fitted-level-2);\n",
       "}\n",
       "\n",
       "/* Estimator label */\n",
       "\n",
       "#sk-container-id-1 div.sk-label label {\n",
       "  font-family: monospace;\n",
       "  font-weight: bold;\n",
       "  display: inline-block;\n",
       "  line-height: 1.2em;\n",
       "}\n",
       "\n",
       "#sk-container-id-1 div.sk-label-container {\n",
       "  text-align: center;\n",
       "}\n",
       "\n",
       "/* Estimator-specific */\n",
       "#sk-container-id-1 div.sk-estimator {\n",
       "  font-family: monospace;\n",
       "  border: 1px dotted var(--sklearn-color-border-box);\n",
       "  border-radius: 0.25em;\n",
       "  box-sizing: border-box;\n",
       "  margin-bottom: 0.5em;\n",
       "  /* unfitted */\n",
       "  background-color: var(--sklearn-color-unfitted-level-0);\n",
       "}\n",
       "\n",
       "#sk-container-id-1 div.sk-estimator.fitted {\n",
       "  /* fitted */\n",
       "  background-color: var(--sklearn-color-fitted-level-0);\n",
       "}\n",
       "\n",
       "/* on hover */\n",
       "#sk-container-id-1 div.sk-estimator:hover {\n",
       "  /* unfitted */\n",
       "  background-color: var(--sklearn-color-unfitted-level-2);\n",
       "}\n",
       "\n",
       "#sk-container-id-1 div.sk-estimator.fitted:hover {\n",
       "  /* fitted */\n",
       "  background-color: var(--sklearn-color-fitted-level-2);\n",
       "}\n",
       "\n",
       "/* Specification for estimator info (e.g. \"i\" and \"?\") */\n",
       "\n",
       "/* Common style for \"i\" and \"?\" */\n",
       "\n",
       ".sk-estimator-doc-link,\n",
       "a:link.sk-estimator-doc-link,\n",
       "a:visited.sk-estimator-doc-link {\n",
       "  float: right;\n",
       "  font-size: smaller;\n",
       "  line-height: 1em;\n",
       "  font-family: monospace;\n",
       "  background-color: var(--sklearn-color-background);\n",
       "  border-radius: 1em;\n",
       "  height: 1em;\n",
       "  width: 1em;\n",
       "  text-decoration: none !important;\n",
       "  margin-left: 0.5em;\n",
       "  text-align: center;\n",
       "  /* unfitted */\n",
       "  border: var(--sklearn-color-unfitted-level-1) 1pt solid;\n",
       "  color: var(--sklearn-color-unfitted-level-1);\n",
       "}\n",
       "\n",
       ".sk-estimator-doc-link.fitted,\n",
       "a:link.sk-estimator-doc-link.fitted,\n",
       "a:visited.sk-estimator-doc-link.fitted {\n",
       "  /* fitted */\n",
       "  border: var(--sklearn-color-fitted-level-1) 1pt solid;\n",
       "  color: var(--sklearn-color-fitted-level-1);\n",
       "}\n",
       "\n",
       "/* On hover */\n",
       "div.sk-estimator:hover .sk-estimator-doc-link:hover,\n",
       ".sk-estimator-doc-link:hover,\n",
       "div.sk-label-container:hover .sk-estimator-doc-link:hover,\n",
       ".sk-estimator-doc-link:hover {\n",
       "  /* unfitted */\n",
       "  background-color: var(--sklearn-color-unfitted-level-3);\n",
       "  color: var(--sklearn-color-background);\n",
       "  text-decoration: none;\n",
       "}\n",
       "\n",
       "div.sk-estimator.fitted:hover .sk-estimator-doc-link.fitted:hover,\n",
       ".sk-estimator-doc-link.fitted:hover,\n",
       "div.sk-label-container:hover .sk-estimator-doc-link.fitted:hover,\n",
       ".sk-estimator-doc-link.fitted:hover {\n",
       "  /* fitted */\n",
       "  background-color: var(--sklearn-color-fitted-level-3);\n",
       "  color: var(--sklearn-color-background);\n",
       "  text-decoration: none;\n",
       "}\n",
       "\n",
       "/* Span, style for the box shown on hovering the info icon */\n",
       ".sk-estimator-doc-link span {\n",
       "  display: none;\n",
       "  z-index: 9999;\n",
       "  position: relative;\n",
       "  font-weight: normal;\n",
       "  right: .2ex;\n",
       "  padding: .5ex;\n",
       "  margin: .5ex;\n",
       "  width: min-content;\n",
       "  min-width: 20ex;\n",
       "  max-width: 50ex;\n",
       "  color: var(--sklearn-color-text);\n",
       "  box-shadow: 2pt 2pt 4pt #999;\n",
       "  /* unfitted */\n",
       "  background: var(--sklearn-color-unfitted-level-0);\n",
       "  border: .5pt solid var(--sklearn-color-unfitted-level-3);\n",
       "}\n",
       "\n",
       ".sk-estimator-doc-link.fitted span {\n",
       "  /* fitted */\n",
       "  background: var(--sklearn-color-fitted-level-0);\n",
       "  border: var(--sklearn-color-fitted-level-3);\n",
       "}\n",
       "\n",
       ".sk-estimator-doc-link:hover span {\n",
       "  display: block;\n",
       "}\n",
       "\n",
       "/* \"?\"-specific style due to the `<a>` HTML tag */\n",
       "\n",
       "#sk-container-id-1 a.estimator_doc_link {\n",
       "  float: right;\n",
       "  font-size: 1rem;\n",
       "  line-height: 1em;\n",
       "  font-family: monospace;\n",
       "  background-color: var(--sklearn-color-background);\n",
       "  border-radius: 1rem;\n",
       "  height: 1rem;\n",
       "  width: 1rem;\n",
       "  text-decoration: none;\n",
       "  /* unfitted */\n",
       "  color: var(--sklearn-color-unfitted-level-1);\n",
       "  border: var(--sklearn-color-unfitted-level-1) 1pt solid;\n",
       "}\n",
       "\n",
       "#sk-container-id-1 a.estimator_doc_link.fitted {\n",
       "  /* fitted */\n",
       "  border: var(--sklearn-color-fitted-level-1) 1pt solid;\n",
       "  color: var(--sklearn-color-fitted-level-1);\n",
       "}\n",
       "\n",
       "/* On hover */\n",
       "#sk-container-id-1 a.estimator_doc_link:hover {\n",
       "  /* unfitted */\n",
       "  background-color: var(--sklearn-color-unfitted-level-3);\n",
       "  color: var(--sklearn-color-background);\n",
       "  text-decoration: none;\n",
       "}\n",
       "\n",
       "#sk-container-id-1 a.estimator_doc_link.fitted:hover {\n",
       "  /* fitted */\n",
       "  background-color: var(--sklearn-color-fitted-level-3);\n",
       "}\n",
       "</style><div id=\"sk-container-id-1\" class=\"sk-top-container\"><div class=\"sk-text-repr-fallback\"><pre>XGBClassifier(base_score=None, booster=None, callbacks=None,\n",
       "              colsample_bylevel=None, colsample_bynode=None,\n",
       "              colsample_bytree=None, device=None, early_stopping_rounds=None,\n",
       "              enable_categorical=False, eval_metric=None, feature_types=None,\n",
       "              gamma=None, grow_policy=None, importance_type=None,\n",
       "              interaction_constraints=None, learning_rate=0.1, max_bin=None,\n",
       "              max_cat_threshold=None, max_cat_to_onehot=None,\n",
       "              max_delta_step=None, max_depth=6, max_leaves=None,\n",
       "              min_child_weight=None, missing=nan, monotone_constraints=None,\n",
       "              multi_strategy=None, n_estimators=100, n_jobs=None,\n",
       "              num_parallel_tree=None, random_state=42, ...)</pre><b>In a Jupyter environment, please rerun this cell to show the HTML representation or trust the notebook. <br />On GitHub, the HTML representation is unable to render, please try loading this page with nbviewer.org.</b></div><div class=\"sk-container\" hidden><div class=\"sk-item\"><div class=\"sk-estimator fitted sk-toggleable\"><input class=\"sk-toggleable__control sk-hidden--visually\" id=\"sk-estimator-id-1\" type=\"checkbox\" checked><label for=\"sk-estimator-id-1\" class=\"sk-toggleable__label fitted sk-toggleable__label-arrow\"><div><div>XGBClassifier</div></div><div><span class=\"sk-estimator-doc-link fitted\">i<span>Fitted</span></span></div></label><div class=\"sk-toggleable__content fitted\"><pre>XGBClassifier(base_score=None, booster=None, callbacks=None,\n",
       "              colsample_bylevel=None, colsample_bynode=None,\n",
       "              colsample_bytree=None, device=None, early_stopping_rounds=None,\n",
       "              enable_categorical=False, eval_metric=None, feature_types=None,\n",
       "              gamma=None, grow_policy=None, importance_type=None,\n",
       "              interaction_constraints=None, learning_rate=0.1, max_bin=None,\n",
       "              max_cat_threshold=None, max_cat_to_onehot=None,\n",
       "              max_delta_step=None, max_depth=6, max_leaves=None,\n",
       "              min_child_weight=None, missing=nan, monotone_constraints=None,\n",
       "              multi_strategy=None, n_estimators=100, n_jobs=None,\n",
       "              num_parallel_tree=None, random_state=42, ...)</pre></div> </div></div></div></div>"
      ],
      "text/plain": [
       "XGBClassifier(base_score=None, booster=None, callbacks=None,\n",
       "              colsample_bylevel=None, colsample_bynode=None,\n",
       "              colsample_bytree=None, device=None, early_stopping_rounds=None,\n",
       "              enable_categorical=False, eval_metric=None, feature_types=None,\n",
       "              gamma=None, grow_policy=None, importance_type=None,\n",
       "              interaction_constraints=None, learning_rate=0.1, max_bin=None,\n",
       "              max_cat_threshold=None, max_cat_to_onehot=None,\n",
       "              max_delta_step=None, max_depth=6, max_leaves=None,\n",
       "              min_child_weight=None, missing=nan, monotone_constraints=None,\n",
       "              multi_strategy=None, n_estimators=100, n_jobs=None,\n",
       "              num_parallel_tree=None, random_state=42, ...)"
      ]
     },
     "execution_count": 28,
     "metadata": {},
     "output_type": "execute_result"
    }
   ],
   "source": [
    "from sklearn.ensemble import RandomForestClassifier\n",
    "from xgboost import XGBClassifier\n",
    "\n",
    "rf_model_50 = RandomForestClassifier(n_estimators=50, \n",
    "                                  max_depth=10,\n",
    "                                  min_samples_split=10,\n",
    "                                  min_samples_leaf=5,\n",
    "                                  random_state=42, \n",
    "                                  class_weight='balanced',\n",
    "                                  n_jobs=-1)\n",
    "rf_model_50.fit(X_train, y_train)\n",
    "\n",
    "rf_model_50_desbalanceada = RandomForestClassifier(n_estimators=50, \n",
    "                                  max_depth=10,\n",
    "                                  min_samples_split=10,\n",
    "                                  min_samples_leaf=5,\n",
    "                                  random_state=42, \n",
    "                                  n_jobs=-1)\n",
    "rf_model_50_desbalanceada.fit(X_train, y_train)\n",
    "\n",
    "rf_model_100 = RandomForestClassifier(n_estimators=100,\n",
    "                                  random_state=42,\n",
    "                                  class_weight='balanced',\n",
    "                                  n_jobs=-1)\n",
    "rf_model_100.fit(X_train, y_train)\n",
    "\n",
    "xgb_model_100 = XGBClassifier(n_estimators=100, \n",
    "                              max_depth=6, \n",
    "                              learning_rate=0.1,\n",
    "                              scale_pos_weight=4,\n",
    "                              random_state=42)\n",
    "xgb_model_100.fit(X_train, y_train)"
   ]
  },
  {
   "cell_type": "markdown",
   "id": "b3c3b4ac-7e92-4716-947c-c1cbe07cd0a6",
   "metadata": {},
   "source": [
    "# Avaliação"
   ]
  },
  {
   "cell_type": "code",
   "execution_count": 29,
   "id": "d6cddafc-4848-4f18-ba3b-cf18642580ad",
   "metadata": {},
   "outputs": [],
   "source": [
    "from sklearn.metrics import confusion_matrix, roc_auc_score, precision_score, recall_score, f1_score\n",
    "\n",
    "def avaliar_modelo(model, X_train, y_train, X_test, y_test, threshold=0.5):\n",
    "    \"\"\"\n",
    "    Avalia um modelo de Machine Learning comparando desempenho em treino e teste.\n",
    "\n",
    "    Parâmetros:\n",
    "    - model: modelo treinado (RandomForest, XGBoost, etc.)\n",
    "    - X_train: features de treino\n",
    "    - y_train: labels de treino\n",
    "    - X_test: features de teste\n",
    "    - y_test: labels de teste\n",
    "    - threshold: valor limite para converter probabilidades em classes (default = 0.5)\n",
    "\n",
    "    Retorna:\n",
    "    - Dicionário com métricas de treino e teste\n",
    "    - Imprime matriz de confusão e resultados\n",
    "    \"\"\"\n",
    "\n",
    "    y_train_proba = model.predict_proba(X_train)[:, 1]\n",
    "    y_test_proba = model.predict_proba(X_test)[:, 1]\n",
    "\n",
    "    y_train_pred = (y_train_proba >= threshold).astype(int)\n",
    "    y_test_pred = (y_test_proba >= threshold).astype(int)\n",
    "\n",
    "    train_auc = roc_auc_score(y_train, y_train_proba)\n",
    "    train_precision = precision_score(y_train, y_train_pred)\n",
    "    train_recall = recall_score(y_train, y_train_pred)\n",
    "    train_f1 = f1_score(y_train, y_train_pred)\n",
    "\n",
    "    test_auc = roc_auc_score(y_test, y_test_proba)\n",
    "    test_precision = precision_score(y_test, y_test_pred)\n",
    "    test_recall = recall_score(y_test, y_test_pred)\n",
    "    test_f1 = f1_score(y_test, y_test_pred)\n",
    "\n",
    "    metrics = {\n",
    "        \"AUC-ROC\": {\"Treino\": train_auc, \"Teste\": test_auc},\n",
    "        \"Precision\": {\"Treino\": train_precision, \"Teste\": test_precision},\n",
    "        \"Recall\": {\"Treino\": train_recall, \"Teste\": test_recall},\n",
    "        \"F1-Score\": {\"Treino\": train_f1, \"Teste\": test_f1},\n",
    "    }\n",
    "\n",
    "    # Exibir métricas formatadas\n",
    "    print(f\"\\n{'Métrica':<15}{'Treino':<15}{'Teste'}\")\n",
    "    print(f\"{'-'*40}\")\n",
    "    for key, value in metrics.items():\n",
    "        print(f\"{key:<15}{value['Treino']:.4f}         {value['Teste']:.4f}\")\n",
    "\n",
    "    print(\"\\nMatriz de Confusão - Treino:\")\n",
    "    print(confusion_matrix(y_train, y_train_pred))\n",
    "\n",
    "    print(\"\\nMatriz de Confusão - Teste:\")\n",
    "    print(confusion_matrix(y_test, y_test_pred))"
   ]
  },
  {
   "cell_type": "code",
   "execution_count": 30,
   "id": "8b3eba14-7886-49f2-9d0a-a2e8a1d4d02f",
   "metadata": {},
   "outputs": [
    {
     "name": "stdout",
     "output_type": "stream",
     "text": [
      "\n",
      "=== Avaliação do Random Forest n_estimators = 50 ===\n",
      "\n",
      "Métrica        Treino         Teste\n",
      "----------------------------------------\n",
      "AUC-ROC        0.7462         0.6282\n",
      "Precision      0.0879         0.5032\n",
      "Recall         0.3269         0.2238\n",
      "F1-Score       0.1386         0.3098\n",
      "\n",
      "Matriz de Confusão - Treino:\n",
      "[[1352699   39094]\n",
      " [   7762    3769]]\n",
      "\n",
      "Matriz de Confusão - Teste:\n",
      "[[346985    696]\n",
      " [  2445    705]]\n",
      "\n",
      "=== Avaliação do Random Forest n_estimators = 50 (Desbalanceada) ===\n",
      "\n",
      "Métrica        Treino         Teste\n",
      "----------------------------------------\n",
      "AUC-ROC        0.7434         0.6232\n",
      "Precision      1.0000         1.0000\n",
      "Recall         0.2248         0.2117\n",
      "F1-Score       0.3671         0.3495\n",
      "\n",
      "Matriz de Confusão - Treino:\n",
      "[[1391793       0]\n",
      " [   8939    2592]]\n",
      "\n",
      "Matriz de Confusão - Teste:\n",
      "[[347681      0]\n",
      " [  2483    667]]\n",
      "\n",
      "=== Avaliação do Random Forest n_estimators = 100 ===\n",
      "\n",
      "Métrica        Treino         Teste\n",
      "----------------------------------------\n",
      "AUC-ROC        1.0000         0.6258\n",
      "Precision      1.0000         1.0000\n",
      "Recall         0.9980         0.2117\n",
      "F1-Score       0.9990         0.3495\n",
      "\n",
      "Matriz de Confusão - Treino:\n",
      "[[1391793       0]\n",
      " [     23   11508]]\n",
      "\n",
      "Matriz de Confusão - Teste:\n",
      "[[347681      0]\n",
      " [  2483    667]]\n",
      "\n",
      "=== Avaliação do XGBoost ===\n",
      "\n",
      "Métrica        Treino         Teste\n",
      "----------------------------------------\n",
      "AUC-ROC        0.7693         0.6352\n",
      "Precision      0.5210         0.5113\n",
      "Recall         0.2404         0.2235\n",
      "F1-Score       0.3290         0.3110\n",
      "\n",
      "Matriz de Confusão - Treino:\n",
      "[[1389244    2549]\n",
      " [   8759    2772]]\n",
      "\n",
      "Matriz de Confusão - Teste:\n",
      "[[347008    673]\n",
      " [  2446    704]]\n"
     ]
    }
   ],
   "source": [
    "print(\"\\n=== Avaliação do Random Forest n_estimators = 50 ===\")\n",
    "avaliar_modelo(rf_model_50, X_train, y_train, X_test, y_test)\n",
    "\n",
    "print(\"\\n=== Avaliação do Random Forest n_estimators = 50 (Desbalanceada) ===\")\n",
    "avaliar_modelo(rf_model_50_desbalanceada, X_train, y_train, X_test, y_test)\n",
    "\n",
    "print(\"\\n=== Avaliação do Random Forest n_estimators = 100 ===\")\n",
    "avaliar_modelo(rf_model_100, X_train, y_train, X_test, y_test)\n",
    "\n",
    "print(\"\\n=== Avaliação do XGBoost ===\")\n",
    "avaliar_modelo(xgb_model_100, X_train, y_train, X_test, y_test)"
   ]
  },
  {
   "cell_type": "code",
   "execution_count": 31,
   "id": "63f165c2-5aeb-4b54-8078-f0fdaddef5c1",
   "metadata": {},
   "outputs": [
    {
     "name": "stdout",
     "output_type": "stream",
     "text": [
      "AUC-ROC: 0.6352\n",
      "Precision: 0.5113\n",
      "Recall: 0.2235\n",
      "F1-Score: 0.3110\n"
     ]
    },
    {
     "data": {
      "image/png": "[encoded data removed]",
      "text/plain": [
       "<Figure size 600x400 with 2 Axes>"
      ]
     },
     "metadata": {},
     "output_type": "display_data"
    }
   ],
   "source": [
    "from sklearn.metrics import confusion_matrix, roc_auc_score, precision_score, recall_score, f1_score\n",
    "import seaborn as sns\n",
    "import matplotlib.pyplot as plt\n",
    "\n",
    "\n",
    "y_pred = xgb_model_100.predict(X_test)\n",
    "y_pred_proba = xgb_model_100.predict_proba(X_test)[:, 1]\n",
    "\n",
    "conf_matrix = confusion_matrix(y_test, y_pred)\n",
    "auc_roc = roc_auc_score(y_test, y_pred_proba)\n",
    "precision = precision_score(y_test, y_pred)\n",
    "recall = recall_score(y_test, y_pred)\n",
    "f1 = f1_score(y_test, y_pred)\n",
    "\n",
    "# Métricas\n",
    "print(f\"AUC-ROC: {auc_roc:.4f}\")\n",
    "print(f\"Precision: {precision:.4f}\")\n",
    "print(f\"Recall: {recall:.4f}\")\n",
    "print(f\"F1-Score: {f1:.4f}\")\n",
    "\n",
    "plt.figure(figsize=(6, 4))\n",
    "sns.heatmap(conf_matrix, annot=True, fmt=\"d\", cmap=\"Blues\", xticklabels=[\"No Fraud\", \"Fraud\"], yticklabels=[\"No Fraud\", \"Fraud\"])\n",
    "plt.xlabel(\"Predito\")\n",
    "plt.ylabel(\"Real\")\n",
    "plt.title(\"Matriz de Confusão\")\n",
    "plt.show()"
   ]
  },
  {
   "cell_type": "code",
   "execution_count": 32,
   "id": "decc59fe-9aee-42a8-9e0b-eac1f8363175",
   "metadata": {},
   "outputs": [
    {
     "data": {
      "image/png": "[encoded data removed]",
      "text/plain": [
       "<Figure size 600x400 with 2 Axes>"
      ]
     },
     "metadata": {},
     "output_type": "display_data"
    }
   ],
   "source": [
    "conf_matrix_percent = conf_matrix.astype('float') / conf_matrix.sum(axis=1)[:, np.newaxis] * 100\n",
    "\n",
    "plt.figure(figsize=(6, 4))\n",
    "sns.heatmap(conf_matrix_percent, annot=True, fmt=\".2f\", cmap=\"Blues\", xticklabels=[\"No Fraud\", \"Fraud\"], yticklabels=[\"No Fraud\", \"Fraud\"])\n",
    "plt.xlabel(\"Predito\")\n",
    "plt.ylabel(\"Real\")\n",
    "plt.title(\"Matriz de Confusão (% Acertos e Erros)\")\n",
    "plt.show()"
   ]
  },
  {
   "cell_type": "code",
   "execution_count": 33,
   "id": "bef4c650-c6e1-4587-a791-8b9308a6429c",
   "metadata": {},
   "outputs": [
    {
     "name": "stdout",
     "output_type": "stream",
     "text": [
      "   tx_amount  tx_time_seconds  tx_time_days  mean_nb_tx_per_day  Real  \\\n",
      "0      53.39         12652350           146            2.386075     0   \n",
      "1      47.31         12652362           146            2.188905     0   \n",
      "2      82.51         12652376           146            3.748954     0   \n",
      "3      22.23         12652377           146            2.719140     0   \n",
      "4      64.77         12652380           146            3.410066     0   \n",
      "\n",
      "   Predito Classificação  \n",
      "0        0            TN  \n",
      "1        0            TN  \n",
      "2        0            TN  \n",
      "3        0            TN  \n",
      "4        0            TN  \n"
     ]
    }
   ],
   "source": [
    "results_df = X_test.copy()\n",
    "results_df[\"Real\"] = y_test.values\n",
    "results_df[\"Predito\"] = y_pred\n",
    "\n",
    "conditions = [\n",
    "    (results_df[\"Real\"] == 0) & (results_df[\"Predito\"] == 0),  # TN\n",
    "    (results_df[\"Real\"] == 0) & (results_df[\"Predito\"] == 1),  # FP\n",
    "    (results_df[\"Real\"] == 1) & (results_df[\"Predito\"] == 0),  # FN\n",
    "    (results_df[\"Real\"] == 1) & (results_df[\"Predito\"] == 1)   # TP\n",
    "]\n",
    "\n",
    "choices = [\"TN\", \"FP\", \"FN\", \"TP\"]\n",
    "\n",
    "results_df[\"Classificação\"] = np.select(conditions, choices, default=\"Erro\")\n",
    "\n",
    "print(results_df.head())"
   ]
  },
  {
   "cell_type": "code",
   "execution_count": 34,
   "id": "1507c429-c522-45aa-af1b-b44cbc2703ed",
   "metadata": {},
   "outputs": [
    {
     "name": "stdout",
     "output_type": "stream",
     "text": [
      " Avaliação de Resultados (Quanto perdemos por causa de fraudes):\n",
      "1. Baseline: R$ 411671.78\n",
      "2. Modelo Ciclo 01: R$ 298138.34\n",
      "Variação percentual de 27.58% de redução nos custos\n",
      "\n"
     ]
    }
   ],
   "source": [
    "total_amount = test_df['tx_amount'].sum()\n",
    "total_amount_fraud = test_df[test_df['tx_fraud']==1]['tx_amount'].sum()\n",
    "\n",
    "baseline = f\"{(total_amount_fraud):.2f}\"\n",
    "\n",
    "tp_tx_amount = results_df[results_df[\"Classificação\"] == \"TP\"]['tx_amount'].sum()\n",
    "fn_tx_amount = results_df[results_df[\"Classificação\"] == \"FN\"]['tx_amount'].sum()\n",
    "fp_tx_amount = results_df[results_df[\"Classificação\"] == \"FP\"]['tx_amount'].sum()\n",
    "tn_tx_amount = results_df[results_df[\"Classificação\"] == \"TN\"]['tx_amount'].sum()\n",
    "\n",
    "total_ciclo = f\"{(fn_tx_amount+fp_tx_amount):.2f}\"\n",
    "\n",
    "print(f\"\"\" Avaliação de Resultados (Quanto perdemos por causa de fraudes):\n",
    "1. Baseline: R$ {baseline}\n",
    "2. Modelo Ciclo 01: R$ {total_ciclo}\n",
    "Variação percentual de {round((1 - (float(total_ciclo) / float(baseline))) * 100, 2)}% de redução nos custos\n",
    "\"\"\"\n",
    "     )"
   ]
  },
  {
   "cell_type": "markdown",
   "id": "2e07c718-badd-44db-926b-8f3a4b83774f",
   "metadata": {},
   "source": [
    "## Importância das Variáveis"
   ]
  },
  {
   "cell_type": "code",
   "execution_count": 35,
   "id": "e982f6aa-805e-44ca-872d-793804f87dd0",
   "metadata": {},
   "outputs": [],
   "source": [
    "feature_importance = xgb_model_100.feature_importances_\n",
    "\n",
    "importance_df = pd.DataFrame({\n",
    "    'Feature': X_train.columns,\n",
    "    'Importance': feature_importance\n",
    "}).sort_values(by='Importance', ascending=False)"
   ]
  },
  {
   "cell_type": "code",
   "execution_count": 36,
   "id": "e0854caf-af18-4441-9ad0-1b2e0c61d49e",
   "metadata": {},
   "outputs": [
    {
     "data": {
      "text/html": [
       "<div>\n",
       "<style scoped>\n",
       "    .dataframe tbody tr th:only-of-type {\n",
       "        vertical-align: middle;\n",
       "    }\n",
       "\n",
       "    .dataframe tbody tr th {\n",
       "        vertical-align: top;\n",
       "    }\n",
       "\n",
       "    .dataframe thead th {\n",
       "        text-align: right;\n",
       "    }\n",
       "</style>\n",
       "<table border=\"1\" class=\"dataframe\">\n",
       "  <thead>\n",
       "    <tr style=\"text-align: right;\">\n",
       "      <th></th>\n",
       "      <th>Feature</th>\n",
       "      <th>Importance</th>\n",
       "    </tr>\n",
       "  </thead>\n",
       "  <tbody>\n",
       "    <tr>\n",
       "      <th>0</th>\n",
       "      <td>tx_amount</td>\n",
       "      <td>0.786836</td>\n",
       "    </tr>\n",
       "    <tr>\n",
       "      <th>2</th>\n",
       "      <td>tx_time_days</td>\n",
       "      <td>0.115347</td>\n",
       "    </tr>\n",
       "    <tr>\n",
       "      <th>3</th>\n",
       "      <td>mean_nb_tx_per_day</td>\n",
       "      <td>0.053110</td>\n",
       "    </tr>\n",
       "    <tr>\n",
       "      <th>1</th>\n",
       "      <td>tx_time_seconds</td>\n",
       "      <td>0.044707</td>\n",
       "    </tr>\n",
       "  </tbody>\n",
       "</table>\n",
       "</div>"
      ],
      "text/plain": [
       "              Feature  Importance\n",
       "0           tx_amount    0.786836\n",
       "2        tx_time_days    0.115347\n",
       "3  mean_nb_tx_per_day    0.053110\n",
       "1     tx_time_seconds    0.044707"
      ]
     },
     "execution_count": 36,
     "metadata": {},
     "output_type": "execute_result"
    }
   ],
   "source": [
    "importance_df"
   ]
  },
  {
   "cell_type": "markdown",
   "id": "c81c5969-6825-4d3d-8b3d-de722c898cf6",
   "metadata": {},
   "source": [
    "Claramente estamos precisando de features novas! O modelo esta se baseando quase que 100% apenas no preço "
   ]
  },
  {
   "cell_type": "markdown",
   "id": "d4de22a5-c0a2-404f-9d48-2fc16e837fdf",
   "metadata": {},
   "source": [
    "# Conclusão"
   ]
  },
  {
   "cell_type": "markdown",
   "id": "abab7bfc-92a5-4f26-b5ec-f76c7474e849",
   "metadata": {
    "editable": true,
    "slideshow": {
     "slide_type": ""
    },
    "tags": []
   },
   "source": [
    "Baseado no nosso modelo, conseguimos sair de um prejuízo de `R$ 411.671,78` para `R$ 298.138,34`. O que representou uma redução de prejuízo de 72.42% com um modelo mais simples.\n",
    "\n",
    "Porém, é importante salientar que podemos estar tendo um overfit em relação a importância das viaráveis. A única variável relevante está sendo o valor, logo, ela está simplificando que valores mais altos são fraudes e menores não. Talvez possamos melhorar isso com algumas novas features."
   ]
  },
  {
   "cell_type": "markdown",
   "id": "c23c8cdb-e9f7-4d69-bbbc-6b32d6745d99",
   "metadata": {},
   "source": [
    "# Próximo Ciclo\n"
   ]
  },
  {
   "cell_type": "markdown",
   "id": "60f65c66-9ec6-48e5-800b-077c0e54d918",
   "metadata": {},
   "source": [
    "1. Feature Engineering: Gerar novas variáveis\n",
    "2. Testar exclusão de variáveis com baixa importância e rodar novo modelo."
   ]
  }
 ],
 "metadata": {
  "kernelspec": {
   "display_name": ".venv",
   "language": "python",
   "name": "python3"
  },
  "language_info": {
   "codemirror_mode": {
    "name": "ipython",
    "version": 3
   },
   "file_extension": ".py",
   "mimetype": "text/x-python",
   "name": "python",
   "nbconvert_exporter": "python",
   "pygments_lexer": "ipython3",
   "version": "3.11.1"
  }
 },
 "nbformat": 4,
 "nbformat_minor": 5
}
